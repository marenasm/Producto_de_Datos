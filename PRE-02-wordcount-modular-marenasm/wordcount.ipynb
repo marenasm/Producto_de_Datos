{
 "cells": [
  {
   "cell_type": "code",
   "execution_count": 1,
   "id": "330cfd4b",
   "metadata": {},
   "outputs": [
    {
     "data": {
      "text/plain": [
       "['file2.txt', 'file3.txt', 'file1.txt', 'file4.txt']"
      ]
     },
     "execution_count": 1,
     "metadata": {},
     "output_type": "execute_result"
    }
   ],
   "source": [
    "# obtain a list of files in the input directory\n",
    "import os\n",
    "\n",
    "files_in_input_dir=os.listdir('data/input/')\n",
    "files_in_input_dir"
   ]
  },
  {
   "cell_type": "code",
   "execution_count": 2,
   "id": "42601af7",
   "metadata": {},
   "outputs": [],
   "source": [
    "# count the frequency of the words in the files in the input directory\n",
    "counter={}\n",
    "for filename in files_in_input_dir:\n",
    "    with open('data/input/'+filename) as f:\n",
    "        for l in f:\n",
    "            for w in l.split( ):\n",
    "                w = w.lower().strip(\",.!?\")\n",
    "                counter[w] = counter.get(w, 0) + 1"
   ]
  },
  {
   "cell_type": "code",
   "execution_count": 3,
   "id": "bb15f865",
   "metadata": {},
   "outputs": [],
   "source": [
    "# create the directory output/ if it doesn't exist\n",
    "if not os.path.exists('data/output'):\n",
    "    os.makedirs('data/output')\n",
    "\n",
    "# save the results using tsv format\n",
    "with open(\"data/output/results.tsv\", \"w\", encoding=\"utf-8\") as f:\n",
    "        for key, value in counter.items():\n",
    "            # write the key and value to the file\n",
    "            f.write(f\"{key}\\t{value}\\n\")\n",
    "\n"
   ]
  }
 ],
 "metadata": {
  "kernelspec": {
   "display_name": ".venv",
   "language": "python",
   "name": "python3"
  },
  "language_info": {
   "codemirror_mode": {
    "name": "ipython",
    "version": 3
   },
   "file_extension": ".py",
   "mimetype": "text/x-python",
   "name": "python",
   "nbconvert_exporter": "python",
   "pygments_lexer": "ipython3",
   "version": "3.9.6"
  }
 },
 "nbformat": 4,
 "nbformat_minor": 5
}
